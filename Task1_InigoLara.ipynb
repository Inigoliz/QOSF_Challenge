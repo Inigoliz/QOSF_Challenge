{
 "cells": [
  {
   "cell_type": "markdown",
   "metadata": {},
   "source": [
    "# Task 1: Quantum Approximation Optimization Algorithms - Iñigo Lara"
   ]
  },
  {
   "cell_type": "markdown",
   "metadata": {},
   "source": [
    "## Introduction:"
   ]
  },
  {
   "cell_type": "markdown",
   "metadata": {},
   "source": [
    "In this notebbook I solve Screening Task 1 for the [QOSF](https://qosf.org/qc_mentorship/) Mentorship Program:\n",
    "\n",
    "Given a certain ket $|\\psi>$, optimize a variational quantum circuit $U(\\theta)$ so that $|\\phi> \\equiv U(\\theta)|0>\\rightarrow |\\psi>$. We work on a quantum circuit of 4 qubits.\n",
    "\n",
    "I will use PennyLane QML package, as it provides a simple way to implement gradient descent to tune the hyperparameters $\\theta$.\n",
    "\n",
    "**Cost function**\n",
    "\n",
    "It is proposed to use $||\\phi>-|\\psi>||$ as a measure of closeliness. This simplifies to:\n",
    "\n",
    "$$||\\phi>-|\\psi>||^{2} = (<\\phi|-<\\psi|)(|\\phi>-\\psi>) = 2 - <\\phi|\\psi> - <\\psi|\\phi> = 2[1-Re(<\\psi|\\phi>)]$$\n",
    "\n",
    "I have found it tricky to implement directly that loss function in PennyLane. Instead, I have used a Fidelity approach, that I discuss later."
   ]
  },
  {
   "cell_type": "markdown",
   "metadata": {},
   "source": [
    "## Solution implementation:"
   ]
  },
  {
   "cell_type": "code",
   "execution_count": 1,
   "metadata": {},
   "outputs": [],
   "source": [
    "import pennylane as qml\n",
    "from pennylane import numpy as np"
   ]
  },
  {
   "cell_type": "markdown",
   "metadata": {},
   "source": [
    "### Operators:"
   ]
  },
  {
   "cell_type": "markdown",
   "metadata": {},
   "source": [
    "The circuit is a sandwich that takes the form:\n",
    "\n",
    "$$|\\text{Initial state}> ----[Even]-[Odd]----[Even]-[Odd]----[Even]-[Odd]----[Even]-[Odd]----...$$\n",
    "\n",
    "The number of times we repeat [Even-Odd] is the 'number of layers'."
   ]
  },
  {
   "cell_type": "code",
   "execution_count": 3,
   "metadata": {},
   "outputs": [],
   "source": [
    "n_wires = 4  # number of qubits"
   ]
  },
  {
   "cell_type": "code",
   "execution_count": 4,
   "metadata": {},
   "outputs": [],
   "source": [
    "def Even(thetaEven):\n",
    "    \"\"\" Applies a set of RZ(theta) to all the qubits \"\"\"\n",
    "    for wire in range(n_wires):\n",
    "        qml.RX(thetaEven[wire], wires=wire)\n",
    "\n",
    "\n",
    "def Odd(thetaOdd):\n",
    "    \"\"\" Applies a set of RZ(theta) followed by CZ entanglement between every pair of qubits \"\"\"\n",
    "    for wire in range(n_wires):\n",
    "        qml.RZ(thetaOdd[wire], wires=wire)\n",
    "        for i in range(n_wires):\n",
    "            for j in range(i+1, n_wires):\n",
    "                qml.CZ(wires=[i, j])"
   ]
  },
  {
   "cell_type": "markdown",
   "metadata": {},
   "source": [
    "### Circuit:"
   ]
  },
  {
   "cell_type": "code",
   "execution_count": 5,
   "metadata": {},
   "outputs": [],
   "source": [
    "dev = qml.device(\"default.qubit\", wires=n_wires)"
   ]
  },
  {
   "cell_type": "markdown",
   "metadata": {},
   "source": [
    "Instead of computing $||𝜙>−|𝜓>||$ for the cost function, I will use the Fidelity between two states ($F=|<\\psi|\\phi>|$). Then, we can define the cost as $1-F$, that reaches it's minimum when $F=1$ ( $0\\leq F\\leq1$ ). This happens when $|\\phi> = |\\psi>$, up to a global phase.\n",
    "\n",
    "I made this choice given the difficulties to compute $||𝜙>−𝜓>||$ in the PennyLane API (In Qiskit it was easier, but on the other hand the optimization code was much clumsier). This is because PennyLane is best used to get expectation values. With this thought in mind, I decided to use the Fidelity, because it can be expressed as the expectation value of the following density matrix: $|\\psi><\\psi|$, where $|\\psi>$ is the state we want:\n",
    "\n",
    "$$F = |<\\psi|\\phi>| = \\sqrt{<\\psi|\\phi>|<\\phi|\\psi>|}$$\n",
    "\n",
    "Moreover, as $|<\\psi|\\phi>| \\geq Re(<\\psi|\\phi>)$, the Fidelity metric will be an overestimation of the proposed metric in the worst case.ç\n",
    "\n",
    "If the optimization converges, we will have a state $|\\psi>$ such that $|<\\psi|\\phi>|=1$.\n",
    "Note that it may happen $|\\phi> = e^{i\\delta}\\psi>$. However, a global phase is never a major problem..."
   ]
  },
  {
   "cell_type": "code",
   "execution_count": 29,
   "metadata": {},
   "outputs": [],
   "source": [
    "def density_matrix(state):\n",
    "    \"\"\"  Calculates the density matrix representation of a state (a state is a complex vector\n",
    "         in the canonical basis representation). The density matrix is a Hermitian operator.\n",
    "    \"\"\"\n",
    "    return np.outer(np.conj(state), state)"
   ]
  },
  {
   "cell_type": "code",
   "execution_count": 7,
   "metadata": {},
   "outputs": [],
   "source": [
    "@ qml.qnode(dev)\n",
    "def circuit(thetaEven_s, thetaOdd_s, n_layers=1):\n",
    "    \"\"\" Combines the different layers and outputs F^2 (Fidelity squared) \"\"\"\n",
    "    for i in range(n_layers):\n",
    "        Even(thetaEven_s[i])\n",
    "        Odd(thetaEven_s[i])\n",
    "    # during the optimization phase we are evaluating the following expected value:\n",
    "    return qml.expval(qml.Hermitian(density_matrix(desired_state), wires=[0, 1, 2, 3]))"
   ]
  },
  {
   "cell_type": "markdown",
   "metadata": {},
   "source": [
    "### Optimization:"
   ]
  },
  {
   "cell_type": "code",
   "execution_count": 32,
   "metadata": {},
   "outputs": [],
   "source": [
    "def QAOA(n_layers=1, verbose=False):\n",
    "    \"\"\" Quantum Approximation Optimization Algorithm:\n",
    "        Uses a Nesterov Momentum optimizer to variate the hyperparameters theta (one per gate Rx, Rz and layer)\n",
    "        to minimize the cost 1 - F.\n",
    "    \"\"\"\n",
    "    init_params = 2*np.pi*np.random.rand(2, n_layers, n_wires)  # Possible improvement: limit params. to [0, 2pi) (due to periodicity)\n",
    "\n",
    "    def cost(params):\n",
    "        thetaEven_s = params[0]\n",
    "        thetaOdd_s = params[1]\n",
    "        return (1-np.sqrt(circuit(thetaEven_s, thetaOdd_s, n_layers=n_layers)))\n",
    "\n",
    "    # itialize optimizer: Nesterov with momentum chosen after trying various\n",
    "    opt = qml.NesterovMomentumOptimizer(stepsize=0.02, momentum=0.9)\n",
    "\n",
    "    losses = []\n",
    "    \n",
    "    # optimize parameters in cost\n",
    "    params = init_params\n",
    "    for i in range(steps):\n",
    "        params = opt.step(cost, params)\n",
    "        loss = cost(params)\n",
    "        losses.append(loss)\n",
    "        if verbose==True:\n",
    "            if (i + 1) % 5 == 0:\n",
    "                print(\"Objective after step {:5d}: {: .7f}\".format(i + 1, loss))\n",
    "    print(f\"Layer architecture {0} finished\".format(n_layers))\n",
    "    return losses"
   ]
  },
  {
   "cell_type": "markdown",
   "metadata": {},
   "source": [
    "### Execution:"
   ]
  },
  {
   "cell_type": "markdown",
   "metadata": {},
   "source": [
    "First, we need a vector that we want to approximate: $|\\phi>$.\n",
    "\n",
    "I generate it as a random normalized complex vector in the canonical basis"
   ]
  },
  {
   "cell_type": "code",
   "execution_count": 33,
   "metadata": {},
   "outputs": [],
   "source": [
    "def norm(x):\n",
    "    \"\"\" Norm of a quantum state: ||x|| = (<x|x>)^1/2 \"\"\"\n",
    "    return np.sqrt(np.sum(np.absolute(x)**2))"
   ]
  },
  {
   "cell_type": "code",
   "execution_count": 9,
   "metadata": {},
   "outputs": [],
   "source": [
    "np.random.seed(42)\n",
    "\n",
    "desired_state = np.random.random(2**n_wires) + np.random.random(2**n_wires) * 1j\n",
    "\n",
    "desired_state = desired_state/norm(desired_state)  # normalize"
   ]
  },
  {
   "cell_type": "markdown",
   "metadata": {},
   "source": [
    "Then, we define a set of circuit architectures and we get the evolution of the losses:"
   ]
  },
  {
   "cell_type": "code",
   "execution_count": 34,
   "metadata": {},
   "outputs": [],
   "source": [
    "layer_list = [1, 3, 5, 7]"
   ]
  },
  {
   "cell_type": "markdown",
   "metadata": {},
   "source": [
    "### Results:"
   ]
  },
  {
   "cell_type": "code",
   "execution_count": 35,
   "metadata": {},
   "outputs": [],
   "source": [
    "def getLosses(layer_list):\n",
    "    \"\"\"\n",
    "    Returns a list of losses for the different layer setups in layerList.\n",
    "    \"\"\"\n",
    "    \n",
    "    losses_list = [QAOA(i) for i in layer_list]\n",
    "    return losses_list"
   ]
  },
  {
   "cell_type": "code",
   "execution_count": 36,
   "metadata": {},
   "outputs": [
    {
     "name": "stdout",
     "output_type": "stream",
     "text": [
      "Layer architecture 0 finished\n"
     ]
    }
   ],
   "source": [
    "losses_list = getLosses(layer_list)"
   ]
  },
  {
   "cell_type": "code",
   "execution_count": 37,
   "metadata": {},
   "outputs": [
    {
     "name": "stdout",
     "output_type": "stream",
     "text": [
      "Layer : 1 | Loss : 0.12577115548877327\n"
     ]
    }
   ],
   "source": [
    "final_losses = [i[-1] for i in losses_list]\n",
    "for i in range(len(layer_list)):\n",
    "    print('Layer : {} | Loss : {}'.format(layer_list[i], final_losses[i]))"
   ]
  },
  {
   "cell_type": "markdown",
   "metadata": {},
   "source": [
    "### Visualization"
   ]
  },
  {
   "cell_type": "code",
   "execution_count": 21,
   "metadata": {},
   "outputs": [],
   "source": [
    "import matplotlib.pyplot as plt"
   ]
  },
  {
   "cell_type": "code",
   "execution_count": 38,
   "metadata": {},
   "outputs": [
    {
     "data": {
      "image/png": "[encoded data removed]",
      "text/plain": [
       "<Figure size 1152x648 with 1 Axes>"
      ]
     },
     "metadata": {
      "needs_background": "light"
     },
     "output_type": "display_data"
    }
   ],
   "source": [
    "x = [i + 1 for i in range(len(layer_list))]\n",
    "plt.figure(figsize=[16, 9])\n",
    "plt.yscale('log')\n",
    "plt.plot(x, final_losses, '--')\n",
    "plt.plot(x, final_losses, 'ro')\n",
    "plt.xlabel('Layers')\n",
    "plt.ylabel('Loss (1-F)')\n",
    "plt.legend(['Loss'])\n",
    "plt.title('Final loss VS number of layers')\n",
    "plt.show()"
   ]
  },
  {
   "cell_type": "code",
   "execution_count": 39,
   "metadata": {},
   "outputs": [
    {
     "data": {
      "image/png": "[encoded data removed]",
      "text/plain": [
       "<Figure size 1152x648 with 1 Axes>"
      ]
     },
     "metadata": {
      "needs_background": "light"
     },
     "output_type": "display_data"
    }
   ],
   "source": [
    "plt.figure(figsize=[16, 9])\n",
    "plt.yscale('log')\n",
    "x2 = [i + 1 for i in range(len(losses_list[0]))]\n",
    "for i in losses_list:\n",
    "    plt.plot(x2, i)\n",
    "legendList = ['{} Layers'.format(i + 1) for i in range(10)]\n",
    "plt.xlabel('Optimization iterations')\n",
    "plt.ylabel('Loss (1-F)')\n",
    "plt.legend(legendList)\n",
    "plt.title('Loss VS optimization iterations')\n",
    "plt.show()"
   ]
  },
  {
   "cell_type": "markdown",
   "metadata": {},
   "source": [
    "### Conclusion:"
   ]
  },
  {
   "cell_type": "markdown",
   "metadata": {},
   "source": [
    "It is interesting to note that even the small architectures show a rapid decrease. They then stop at around $F\\sim 0.9$. Deeper architectures go beyond that point.\n",
    "\n",
    "Naively, I would expect that circuits with more layers would perform better. However, this is not really explicit from the experiments run above. It is true that bigger circuits do better, but not as much as I would expect.\n",
    "\n",
    "This fact could have many origins. I can think of some of them:\n",
    "\n",
    "It may happen that the Fidelity measure gets stuck in local minima easily, as it has a phase redundancy. This could be avoided, for example, taking into account the symmetries of the system and limiting the values of $\\theta$ to $[0, 2\\pi]$.\n",
    "\n",
    "It can also happen even bigger architectures are not capable of covering properly Hilbert's space. This could be the case, as $10*8=80$ parameters (degrees of freedom) that we have in the biggest case is small compared to the $16*16\\sim 256$ degrees of freedom of unitary matrix ($n^{2}-1$).\n",
    "\n",
    "\n",
    "**Anyway...**\n",
    "\n",
    "It has been an interesting task with many subtleties to explore. I would have liked to build, with more time, noise models to test the circuits with, in order to model deocherence. Moreover, it would have been interesting to run the experiments in an actual quantum computer. Luckily, we will be able to do that in not that much time!"
   ]
  },
  {
   "cell_type": "code",
   "execution_count": null,
   "metadata": {},
   "outputs": [],
   "source": []
  }
 ],
 "metadata": {
  "kernelspec": {
   "display_name": "Python 3",
   "language": "python",
   "name": "python3"
  },
  "language_info": {
   "codemirror_mode": {
    "name": "ipython",
    "version": 3
   },
   "file_extension": ".py",
   "mimetype": "text/x-python",
   "name": "python",
   "nbconvert_exporter": "python",
   "pygments_lexer": "ipython3",
   "version": "3.8.5"
  }
 },
 "nbformat": 4,
 "nbformat_minor": 4
}
